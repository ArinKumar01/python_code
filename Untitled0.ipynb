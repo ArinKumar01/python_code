{
  "nbformat": 4,
  "nbformat_minor": 0,
  "metadata": {
    "colab": {
      "provenance": [],
      "authorship_tag": "ABX9TyPOfLutV0D9+igRNGmvaK7V",
      "include_colab_link": true
    },
    "kernelspec": {
      "name": "python3",
      "display_name": "Python 3"
    },
    "language_info": {
      "name": "python"
    }
  },
  "cells": [
    {
      "cell_type": "markdown",
      "metadata": {
        "id": "view-in-github",
        "colab_type": "text"
      },
      "source": [
        "<a href=\"https://colab.research.google.com/github/ArinKumar01/python_code/blob/main/Untitled0.ipynb\" target=\"_parent\"><img src=\"https://colab.research.google.com/assets/colab-badge.svg\" alt=\"Open In Colab\"/></a>"
      ]
    },
    {
      "cell_type": "code",
      "execution_count": 2,
      "metadata": {
        "colab": {
          "base_uri": "https://localhost:8080/"
        },
        "id": "G9YfHBKs-_x1",
        "outputId": "1a59e7cf-8de1-4b33-b845-05c460036eaf"
      },
      "outputs": [
        {
          "output_type": "stream",
          "name": "stdout",
          "text": [
            "enter first price : 50\n",
            "enter second price :  20\n",
            "enter third price : 15\n",
            "$76.5\n"
          ]
        }
      ],
      "source": [
        "a=float(input(\"enter first price : \"))\n",
        "b=float(input(\"enter second price :  \"))\n",
        "c=float(input(\"enter third price : \"))\n",
        "s=a+b+c\n",
        "if(s>50):\n",
        "  d=s-(10*s)/100\n",
        "  print(f\"${d}\")\n",
        "\n",
        "else:\n",
        "  print(f\"${s}\")"
      ]
    }
  ]
}